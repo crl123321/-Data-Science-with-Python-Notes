{
  "cells": [
    {
      "cell_type": "markdown",
      "id": "7c2627d3",
      "metadata": {
        "id": "7c2627d3"
      },
      "source": [
        "<a \n",
        " href=\"https://colab.research.google.com/github/LearnPythonWithRune/DataScienceWithPython/blob/main/colab/final/00 - Lesson - Data Science Workflow.ipynb\"\n",
        " target=\"_parent\">\n",
        "<img \n",
        " src=\"https://colab.research.google.com/assets/colab-badge.svg\"\n",
        "alt=\"Open In Colab\"/>\n",
        "</a>"
      ]
    },
    {
      "cell_type": "markdown",
      "id": "0676b191",
      "metadata": {
        "id": "0676b191"
      },
      "source": [
        "# Data Science Workflow"
      ]
    },
    {
      "cell_type": "markdown",
      "id": "766b427a",
      "metadata": {
        "id": "766b427a"
      },
      "source": [
        "## Why Data Science?\n",
        "#### Motivation to learn Data Science\n",
        "- Smart phones collect data\n",
        "- Data driven decisions in business\n",
        "- Understand the world\n",
        "\n",
        "#### Job opportunities: Data Science with Python\n",
        "- Over 2.5 million jobs in data science and related professions (Burning Glass)\n",
        "- Python most popular language for data science (KDnuggets)\n",
        "- Data Science and Analytics professionals have average starting salary of over USD 80,000 in the US.\n",
        "\n",
        "#### Popularity?\n",
        "- The amount data available today\n",
        "- Data-driven applications have shown high value"
      ]
    },
    {
      "cell_type": "markdown",
      "id": "0757aa66",
      "metadata": {
        "id": "0757aa66"
      },
      "source": [
        "## How did Data Science start?\n",
        "- [Data Analysis Helped Defeat Cholera](https://www.udacity.com/blog/2015/02/how-data-analysis-helped-defeat-cholera.html)\n",
        "- [First Modern Weahter Forecast](https://en.wikipedia.org/wiki/Weather_forecasting#Modern_methods)"
      ]
    },
    {
      "cell_type": "markdown",
      "id": "c784a623",
      "metadata": {
        "id": "c784a623"
      },
      "source": [
        "## Data Science: Understanding the Problem\n",
        "- Get the right question:\n",
        "    - What is the **problem** we try to **solve**?\n",
        "    - This forms the **Data Science problem**\n",
        "    - **Examples**\n",
        "        - Sales figure and call center logs: evaluate a new product\n",
        "        - Sensor data from multiple sensors: detect equipment failure\n",
        "        - Customer data + marketing data: better targeted marketing\n",
        "- **Assess situation**\n",
        "    - Risks, Benefits, Contingencies, Regulations, Resources, Requirement\n",
        "- **Define goal**\n",
        "    - What is the **objective**?\n",
        "    - What is the **success criteria**?\n",
        "- **Conclusion**\n",
        "    - Defining the problem is key to successful Data Science projects"
      ]
    },
    {
      "cell_type": "markdown",
      "id": "775c0e80",
      "metadata": {
        "id": "775c0e80"
      },
      "source": [
        "## The Data Science Workflow"
      ]
    },
    {
      "cell_type": "markdown",
      "id": "e2acf73a",
      "metadata": {
        "id": "e2acf73a"
      },
      "source": [
        "![Data Science Workflow](https://raw.githubusercontent.com/LearnPythonWithRune/DataScienceWithPython/main/jupyter/final/img/ds-workflow.png)"
      ]
    },
    {
      "cell_type": "markdown",
      "id": "80badb8a",
      "metadata": {
        "id": "80badb8a"
      },
      "source": [
        "### Example: Weather forecast\n",
        "- Step 1\n",
        "    - **Problem**: Predict weather tomorrow\n",
        "    - **Data**: Time series on *Temperateture, Air pressure, Humidity, Rain, Wind speed, Wind direction, etc.*\n",
        "    - **Import**: Collect data from sources\n",
        "- Step 2\n",
        "    - **Explore**: Data quality\n",
        "    - **Visualize**: A great way to understand data\n",
        "    - **Cleaning**: Handle missing or faulty data\n",
        "- Step 3\n",
        "    - **Features**: Select features to use in model\n",
        "    - **Model**: Example in predicting *rain/no rain* ([Tutorial + Video + Code + Project](https://www.learnpythonwithrune.org/linear-classifier-from-scratch-explained-on-real-project/))\n",
        "    - **Analyze**: Apply the prediction model\n",
        "- Step 4\n",
        "    - **Present**: Weather forecast\n",
        "    - **Visualize**: Charts, maps, etc.\n",
        "    - **Credibility**: Inaccurate results, too high confidence, not presenting full findings\n",
        "- Step 5\n",
        "    - **Insights**: What to wear, impact on outside events, etc.\n",
        "    - **Impact**: Sales and weather forecast *(umbrella, ice cream, etc.)*\n",
        "    - **Main goal**: This is what makes Data Science valuable"
      ]
    },
    {
      "cell_type": "markdown",
      "id": "e070b9f3",
      "metadata": {
        "id": "e070b9f3"
      },
      "source": [
        "## Data Scientist Skills\n",
        "#### Beginners vs Experts Data Scientists\n",
        "\n",
        "![Data Science Workflow](https://raw.githubusercontent.com/LearnPythonWithRune/DataScienceWithPython/main/jupyter/final/img/ds-workflow-focus.png)\n",
        "\n",
        "### Hard skills\n",
        "- Math and Statistics\n",
        "- Programming\n",
        "- Domain knowledge\n",
        "- Data visualization\n",
        "\n",
        "### Soft skills\n",
        "- Curiosity\n",
        "- Communication\n",
        "- Storytelling Skills\n",
        "- Structured Thinking"
      ]
    },
    {
      "cell_type": "markdown",
      "id": "9ce2ed3f",
      "metadata": {
        "id": "9ce2ed3f"
      },
      "source": [
        "## Student Grade Prediction\n",
        "- Predict the final grade of Portugese high school students ([source: Kaggle](https://www.kaggle.com/dipam7/student-grade-prediction))\n",
        "\n",
        "### Features\n",
        "| Feature | Description |\n",
        "| ------------- |-------------|\n",
        "| school | student's school (binary: 'GP' - Gabriel Pereira or 'MS' - Mousinho da Silveira) |\n",
        "| sex | student's sex (binary: 'F' - female or 'M' - male) |\n",
        "| age | student's age (numeric: from 15 to 22) |\n",
        "| address | student's home address type (binary: 'U' - urban or 'R' - rural) |\n",
        "| famsize | family size (binary: 'LE3' - less or equal to 3 or 'GT3' - greater than 3) |\n",
        "| Pstatus | parent's cohabitation status (binary: 'T' - living together or 'A' - apart) |\n",
        "| Medu | mother's education (numeric: 0: none, 1: primary education (4th grade), 2: 5th to 9th grade, 3: secondary education or 4: higher education) |\n",
        "| Fedu | father's education (numeric: 0: none, 1: primary education (4th grade), 2: 5th to 9th grade, 3:   secondary education or 4: higher education) |\n",
        "| Mjob | mother's job (nominal: 'teacher', 'health' care related, civil 'services' (e.g. administrative or police), 'at_home' or 'other') |\n",
        "| Fjob | father's job (nominal: 'teacher', 'health' care related, civil 'services' (e.g. administrative or police), 'at_home' or 'other') |\n",
        "| reason | reason to choose this school (nominal: close to 'home', school 'reputation', 'course' preference or 'other') |\n",
        "| guardian | student's guardian (nominal: 'mother', 'father' or 'other') |\n",
        "| traveltime | home to school travel time (numeric: 1: <15 min., 2: 15-30 min., 3: 30 min. - 1 hour, or 4: >1 hour) |\n",
        "| studytime | weekly study time (numeric: 1: <2 hours, 2: 2 to 5 hours, 3: 5 to 10 hours, or 4: >10 hours) |\n",
        "| failures | number of past class failures (numeric: n if 1<=n<3, else 4) |\n",
        "| schoolsup | extra educational support (binary: yes or no) |\n",
        "| famsup | family educational support (binary: yes or no) |\n",
        "| paid | extra paid classes within the course subject (Math or Portuguese) (binary: yes or no) |\n",
        "| activities | extra-curricular activities (binary: yes or no) |\n",
        "| nursery | attended nursery school (binary: yes or no) |\n",
        "| higher | wants to take higher education (binary: yes or no) |\n",
        "| internet | Internet access at home (binary: yes or no) |\n",
        "| romantic | with a romantic relationship (binary: yes or no) |\n",
        "| famrel | quality of family relationships (numeric: from 1 - very bad to 5 - excellent) |\n",
        "| freetime | free time after school (numeric: from 1 - very low to 5 - very high) |\n",
        "| goout | going out with friends (numeric: from 1 - very low to 5 - very high) |\n",
        "| Dalc | workday alcohol consumption (numeric: from 1 - very low to 5 - very high) |\n",
        "| Walc | weekend alcohol consumption (numeric: from 1 - very low to 5 - very high) |\n",
        "| health | current health status (numeric: from 1 - very bad to 5 - very good) |\n",
        "| absences | number of school absences (numeric: from 0 to 93) |\n",
        "\n",
        "### Targets\n",
        "| Feature | Description |\n",
        "| ------------- |-------------|\n",
        "| G1 | first period grade (numeric: from 0 to 20) |\n",
        "| G2 | second period grade (numeric: from 0 to 20) |\n",
        "| G3 | final grade (numeric: from 0 to 20, output target) |"
      ]
    },
    {
      "cell_type": "markdown",
      "id": "0889fa2e",
      "metadata": {
        "id": "0889fa2e"
      },
      "source": [
        "### Problem: Propose activities to improve G3 grades.\n",
        "\n",
        "#### Our Goal\n",
        "- To guide the school how they helps students getting higher grades"
      ]
    },
    {
      "cell_type": "markdown",
      "id": "4b6228c1",
      "metadata": {
        "id": "4b6228c1"
      },
      "source": [
        "> #### Programming Notes:\n",
        "> - Libraries used\n",
        ">     - [**pandas**](https://pandas.pydata.org) - a data analysis and manipulation tool\n",
        "> - Functionality and concepts used\n",
        ">     - [**CSV**](https://en.wikipedia.org/wiki/Comma-separated_values) file ([Lecture on CSV](https://youtu.be/LEyojSOg4EI))\n",
        ">     - [**read_csv()**](https://pandas.pydata.org/pandas-docs/stable/reference/api/pandas.read_csv.html) read a comma-separated values (csv) file into **pandas** DataFrame.\n",
        ">     - [**corr()**](https://pandas.pydata.org/docs/reference/api/pandas.DataFrame.corr.html) Compute pairwise correlation of **pandas** DataFrame columns, excluding NA/null values.\n",
        ">     - [**groupby()**](https://pandas.pydata.org/pandas-docs/stable/reference/api/pandas.DataFrame.groupby.html) Grouping a **pandas** DataFrame column to apply a function on it.\n",
        ">     - [**mean()**](https://pandas.pydata.org/pandas-docs/stable/reference/api/pandas.DataFrame.mean.html) Return the mean of the values over the requested axis in a **pandas** DataFrame.\n",
        ">     - [**std()**](https://pandas.pydata.org/docs/reference/api/pandas.DataFrame.std.html) Return sample standard deviation over requested axis of a **pandas** DataFrame.\n",
        ">     - [**count()**](https://pandas.pydata.org/docs/reference/api/pandas.DataFrame.count.html) Count non-NA cells for each column or row of a **pandas** DataFrame."
      ]
    },
    {
      "cell_type": "markdown",
      "id": "0cc4c7c9",
      "metadata": {
        "id": "0cc4c7c9"
      },
      "source": [
        "### Step 1: Acquire\n",
        "- Explore problem\n",
        "- Identify data\n",
        "- Import data"
      ]
    },
    {
      "cell_type": "markdown",
      "id": "160a3e40",
      "metadata": {
        "id": "160a3e40"
      },
      "source": [
        "#### Get the right questions\n",
        "- This forms the data science problem\n",
        "- What is the problem\n",
        "\n",
        "#### Examples\n",
        "| Data | Problem |\n",
        "| ---- | ------- |\n",
        "| Sales figure and call center logs | evaluate a new product |\n",
        "| Sensor data from multiple sensors | detect equipment failure |\n",
        "| Customer data & marketing data | better targeted marketing |"
      ]
    },
    {
      "cell_type": "markdown",
      "id": "4b4f0146",
      "metadata": {
        "id": "4b4f0146"
      },
      "source": [
        "#### Understand context\n",
        "- Student age?\n",
        "- What is possible?\n",
        "- What is the budget?"
      ]
    },
    {
      "cell_type": "markdown",
      "id": "e2a1f0cc",
      "metadata": {
        "id": "e2a1f0cc"
      },
      "source": [
        "#### Data\n",
        "- Import and read the data"
      ]
    },
    {
      "cell_type": "code",
      "execution_count": 2,
      "id": "cf3f9569",
      "metadata": {
        "id": "cf3f9569"
      },
      "outputs": [],
      "source": [
        "import pandas as pd"
      ]
    },
    {
      "cell_type": "code",
      "execution_count": 3,
      "id": "7cb23f45",
      "metadata": {
        "id": "7cb23f45"
      },
      "outputs": [],
      "source": [
        "data = pd.read_csv('https://raw.githubusercontent.com/LearnPythonWithRune/DataScienceWithPython/main/jupyter/final/files/student-mat.csv')"
      ]
    },
    {
      "cell_type": "code",
      "execution_count": 4,
      "id": "c16222d1",
      "metadata": {
        "colab": {
          "base_uri": "https://localhost:8080/"
        },
        "id": "c16222d1",
        "outputId": "47d2d2e1-0d05-4e54-ca60-aaa7c4ed809b"
      },
      "outputs": [
        {
          "output_type": "execute_result",
          "data": {
            "text/plain": [
              "395"
            ]
          },
          "metadata": {},
          "execution_count": 4
        }
      ],
      "source": [
        "len(data)"
      ]
    },
    {
      "cell_type": "code",
      "execution_count": 5,
      "id": "c3f8ecf7",
      "metadata": {
        "scrolled": false,
        "colab": {
          "base_uri": "https://localhost:8080/",
          "height": 279
        },
        "id": "c3f8ecf7",
        "outputId": "a5eb3077-96f0-4429-a540-e7eb4c71d9b8"
      },
      "outputs": [
        {
          "output_type": "execute_result",
          "data": {
            "text/plain": [
              "  school sex  age address famsize Pstatus  Medu  Fedu     Mjob      Fjob  ...  \\\n",
              "0     GP   F   18       U     GT3       A     4     4  at_home   teacher  ...   \n",
              "1     GP   F   17       U     GT3       T     1     1  at_home     other  ...   \n",
              "2     GP   F   15       U     LE3       T     1     1  at_home     other  ...   \n",
              "3     GP   F   15       U     GT3       T     4     2   health  services  ...   \n",
              "4     GP   F   16       U     GT3       T     3     3    other     other  ...   \n",
              "\n",
              "  famrel freetime  goout  Dalc  Walc health absences  G1  G2  G3  \n",
              "0      4        3      4     1     1      3        6   5   6   6  \n",
              "1      5        3      3     1     1      3        4   5   5   6  \n",
              "2      4        3      2     2     3      3       10   7   8  10  \n",
              "3      3        2      2     1     1      5        2  15  14  15  \n",
              "4      4        3      2     1     2      5        4   6  10  10  \n",
              "\n",
              "[5 rows x 33 columns]"
            ],
            "text/html": [
              "\n",
              "  <div id=\"df-d0400495-0673-4069-acee-e163ac811489\">\n",
              "    <div class=\"colab-df-container\">\n",
              "      <div>\n",
              "<style scoped>\n",
              "    .dataframe tbody tr th:only-of-type {\n",
              "        vertical-align: middle;\n",
              "    }\n",
              "\n",
              "    .dataframe tbody tr th {\n",
              "        vertical-align: top;\n",
              "    }\n",
              "\n",
              "    .dataframe thead th {\n",
              "        text-align: right;\n",
              "    }\n",
              "</style>\n",
              "<table border=\"1\" class=\"dataframe\">\n",
              "  <thead>\n",
              "    <tr style=\"text-align: right;\">\n",
              "      <th></th>\n",
              "      <th>school</th>\n",
              "      <th>sex</th>\n",
              "      <th>age</th>\n",
              "      <th>address</th>\n",
              "      <th>famsize</th>\n",
              "      <th>Pstatus</th>\n",
              "      <th>Medu</th>\n",
              "      <th>Fedu</th>\n",
              "      <th>Mjob</th>\n",
              "      <th>Fjob</th>\n",
              "      <th>...</th>\n",
              "      <th>famrel</th>\n",
              "      <th>freetime</th>\n",
              "      <th>goout</th>\n",
              "      <th>Dalc</th>\n",
              "      <th>Walc</th>\n",
              "      <th>health</th>\n",
              "      <th>absences</th>\n",
              "      <th>G1</th>\n",
              "      <th>G2</th>\n",
              "      <th>G3</th>\n",
              "    </tr>\n",
              "  </thead>\n",
              "  <tbody>\n",
              "    <tr>\n",
              "      <th>0</th>\n",
              "      <td>GP</td>\n",
              "      <td>F</td>\n",
              "      <td>18</td>\n",
              "      <td>U</td>\n",
              "      <td>GT3</td>\n",
              "      <td>A</td>\n",
              "      <td>4</td>\n",
              "      <td>4</td>\n",
              "      <td>at_home</td>\n",
              "      <td>teacher</td>\n",
              "      <td>...</td>\n",
              "      <td>4</td>\n",
              "      <td>3</td>\n",
              "      <td>4</td>\n",
              "      <td>1</td>\n",
              "      <td>1</td>\n",
              "      <td>3</td>\n",
              "      <td>6</td>\n",
              "      <td>5</td>\n",
              "      <td>6</td>\n",
              "      <td>6</td>\n",
              "    </tr>\n",
              "    <tr>\n",
              "      <th>1</th>\n",
              "      <td>GP</td>\n",
              "      <td>F</td>\n",
              "      <td>17</td>\n",
              "      <td>U</td>\n",
              "      <td>GT3</td>\n",
              "      <td>T</td>\n",
              "      <td>1</td>\n",
              "      <td>1</td>\n",
              "      <td>at_home</td>\n",
              "      <td>other</td>\n",
              "      <td>...</td>\n",
              "      <td>5</td>\n",
              "      <td>3</td>\n",
              "      <td>3</td>\n",
              "      <td>1</td>\n",
              "      <td>1</td>\n",
              "      <td>3</td>\n",
              "      <td>4</td>\n",
              "      <td>5</td>\n",
              "      <td>5</td>\n",
              "      <td>6</td>\n",
              "    </tr>\n",
              "    <tr>\n",
              "      <th>2</th>\n",
              "      <td>GP</td>\n",
              "      <td>F</td>\n",
              "      <td>15</td>\n",
              "      <td>U</td>\n",
              "      <td>LE3</td>\n",
              "      <td>T</td>\n",
              "      <td>1</td>\n",
              "      <td>1</td>\n",
              "      <td>at_home</td>\n",
              "      <td>other</td>\n",
              "      <td>...</td>\n",
              "      <td>4</td>\n",
              "      <td>3</td>\n",
              "      <td>2</td>\n",
              "      <td>2</td>\n",
              "      <td>3</td>\n",
              "      <td>3</td>\n",
              "      <td>10</td>\n",
              "      <td>7</td>\n",
              "      <td>8</td>\n",
              "      <td>10</td>\n",
              "    </tr>\n",
              "    <tr>\n",
              "      <th>3</th>\n",
              "      <td>GP</td>\n",
              "      <td>F</td>\n",
              "      <td>15</td>\n",
              "      <td>U</td>\n",
              "      <td>GT3</td>\n",
              "      <td>T</td>\n",
              "      <td>4</td>\n",
              "      <td>2</td>\n",
              "      <td>health</td>\n",
              "      <td>services</td>\n",
              "      <td>...</td>\n",
              "      <td>3</td>\n",
              "      <td>2</td>\n",
              "      <td>2</td>\n",
              "      <td>1</td>\n",
              "      <td>1</td>\n",
              "      <td>5</td>\n",
              "      <td>2</td>\n",
              "      <td>15</td>\n",
              "      <td>14</td>\n",
              "      <td>15</td>\n",
              "    </tr>\n",
              "    <tr>\n",
              "      <th>4</th>\n",
              "      <td>GP</td>\n",
              "      <td>F</td>\n",
              "      <td>16</td>\n",
              "      <td>U</td>\n",
              "      <td>GT3</td>\n",
              "      <td>T</td>\n",
              "      <td>3</td>\n",
              "      <td>3</td>\n",
              "      <td>other</td>\n",
              "      <td>other</td>\n",
              "      <td>...</td>\n",
              "      <td>4</td>\n",
              "      <td>3</td>\n",
              "      <td>2</td>\n",
              "      <td>1</td>\n",
              "      <td>2</td>\n",
              "      <td>5</td>\n",
              "      <td>4</td>\n",
              "      <td>6</td>\n",
              "      <td>10</td>\n",
              "      <td>10</td>\n",
              "    </tr>\n",
              "  </tbody>\n",
              "</table>\n",
              "<p>5 rows × 33 columns</p>\n",
              "</div>\n",
              "      <button class=\"colab-df-convert\" onclick=\"convertToInteractive('df-d0400495-0673-4069-acee-e163ac811489')\"\n",
              "              title=\"Convert this dataframe to an interactive table.\"\n",
              "              style=\"display:none;\">\n",
              "        \n",
              "  <svg xmlns=\"http://www.w3.org/2000/svg\" height=\"24px\"viewBox=\"0 0 24 24\"\n",
              "       width=\"24px\">\n",
              "    <path d=\"M0 0h24v24H0V0z\" fill=\"none\"/>\n",
              "    <path d=\"M18.56 5.44l.94 2.06.94-2.06 2.06-.94-2.06-.94-.94-2.06-.94 2.06-2.06.94zm-11 1L8.5 8.5l.94-2.06 2.06-.94-2.06-.94L8.5 2.5l-.94 2.06-2.06.94zm10 10l.94 2.06.94-2.06 2.06-.94-2.06-.94-.94-2.06-.94 2.06-2.06.94z\"/><path d=\"M17.41 7.96l-1.37-1.37c-.4-.4-.92-.59-1.43-.59-.52 0-1.04.2-1.43.59L10.3 9.45l-7.72 7.72c-.78.78-.78 2.05 0 2.83L4 21.41c.39.39.9.59 1.41.59.51 0 1.02-.2 1.41-.59l7.78-7.78 2.81-2.81c.8-.78.8-2.07 0-2.86zM5.41 20L4 18.59l7.72-7.72 1.47 1.35L5.41 20z\"/>\n",
              "  </svg>\n",
              "      </button>\n",
              "      \n",
              "  <style>\n",
              "    .colab-df-container {\n",
              "      display:flex;\n",
              "      flex-wrap:wrap;\n",
              "      gap: 12px;\n",
              "    }\n",
              "\n",
              "    .colab-df-convert {\n",
              "      background-color: #E8F0FE;\n",
              "      border: none;\n",
              "      border-radius: 50%;\n",
              "      cursor: pointer;\n",
              "      display: none;\n",
              "      fill: #1967D2;\n",
              "      height: 32px;\n",
              "      padding: 0 0 0 0;\n",
              "      width: 32px;\n",
              "    }\n",
              "\n",
              "    .colab-df-convert:hover {\n",
              "      background-color: #E2EBFA;\n",
              "      box-shadow: 0px 1px 2px rgba(60, 64, 67, 0.3), 0px 1px 3px 1px rgba(60, 64, 67, 0.15);\n",
              "      fill: #174EA6;\n",
              "    }\n",
              "\n",
              "    [theme=dark] .colab-df-convert {\n",
              "      background-color: #3B4455;\n",
              "      fill: #D2E3FC;\n",
              "    }\n",
              "\n",
              "    [theme=dark] .colab-df-convert:hover {\n",
              "      background-color: #434B5C;\n",
              "      box-shadow: 0px 1px 3px 1px rgba(0, 0, 0, 0.15);\n",
              "      filter: drop-shadow(0px 1px 2px rgba(0, 0, 0, 0.3));\n",
              "      fill: #FFFFFF;\n",
              "    }\n",
              "  </style>\n",
              "\n",
              "      <script>\n",
              "        const buttonEl =\n",
              "          document.querySelector('#df-d0400495-0673-4069-acee-e163ac811489 button.colab-df-convert');\n",
              "        buttonEl.style.display =\n",
              "          google.colab.kernel.accessAllowed ? 'block' : 'none';\n",
              "\n",
              "        async function convertToInteractive(key) {\n",
              "          const element = document.querySelector('#df-d0400495-0673-4069-acee-e163ac811489');\n",
              "          const dataTable =\n",
              "            await google.colab.kernel.invokeFunction('convertToInteractive',\n",
              "                                                     [key], {});\n",
              "          if (!dataTable) return;\n",
              "\n",
              "          const docLinkHtml = 'Like what you see? Visit the ' +\n",
              "            '<a target=\"_blank\" href=https://colab.research.google.com/notebooks/data_table.ipynb>data table notebook</a>'\n",
              "            + ' to learn more about interactive tables.';\n",
              "          element.innerHTML = '';\n",
              "          dataTable['output_type'] = 'display_data';\n",
              "          await google.colab.output.renderOutput(dataTable, element);\n",
              "          const docLink = document.createElement('div');\n",
              "          docLink.innerHTML = docLinkHtml;\n",
              "          element.appendChild(docLink);\n",
              "        }\n",
              "      </script>\n",
              "    </div>\n",
              "  </div>\n",
              "  "
            ]
          },
          "metadata": {},
          "execution_count": 5
        }
      ],
      "source": [
        "data.head()"
      ]
    },
    {
      "cell_type": "code",
      "execution_count": 6,
      "id": "fb86fc22",
      "metadata": {
        "scrolled": true,
        "colab": {
          "base_uri": "https://localhost:8080/"
        },
        "id": "fb86fc22",
        "outputId": "0e373c15-0086-46f9-9fc4-d3c04b7a5ccc"
      },
      "outputs": [
        {
          "output_type": "execute_result",
          "data": {
            "text/plain": [
              "Index(['school', 'sex', 'age', 'address', 'famsize', 'Pstatus', 'Medu', 'Fedu',\n",
              "       'Mjob', 'Fjob', 'reason', 'guardian', 'traveltime', 'studytime',\n",
              "       'failures', 'schoolsup', 'famsup', 'paid', 'activities', 'nursery',\n",
              "       'higher', 'internet', 'romantic', 'famrel', 'freetime', 'goout', 'Dalc',\n",
              "       'Walc', 'health', 'absences', 'G1', 'G2', 'G3'],\n",
              "      dtype='object')"
            ]
          },
          "metadata": {},
          "execution_count": 6
        }
      ],
      "source": [
        "data.columns"
      ]
    },
    {
      "cell_type": "markdown",
      "id": "81e11290",
      "metadata": {
        "id": "81e11290"
      },
      "source": [
        "### Step 2: Prepare\n",
        "- Explore data\n",
        "- Visualize ideas\n",
        "- Cleaning data"
      ]
    },
    {
      "cell_type": "markdown",
      "id": "7fc3f080",
      "metadata": {
        "id": "7fc3f080"
      },
      "source": [
        "Are the data types as expected?"
      ]
    },
    {
      "cell_type": "code",
      "execution_count": 7,
      "id": "f2ab26c0",
      "metadata": {
        "colab": {
          "base_uri": "https://localhost:8080/"
        },
        "id": "f2ab26c0",
        "outputId": "ae82cd26-db4a-4d1a-bdf5-31292c78bbc8"
      },
      "outputs": [
        {
          "output_type": "execute_result",
          "data": {
            "text/plain": [
              "school        object\n",
              "sex           object\n",
              "age            int64\n",
              "address       object\n",
              "famsize       object\n",
              "Pstatus       object\n",
              "Medu           int64\n",
              "Fedu           int64\n",
              "Mjob          object\n",
              "Fjob          object\n",
              "reason        object\n",
              "guardian      object\n",
              "traveltime     int64\n",
              "studytime      int64\n",
              "failures       int64\n",
              "schoolsup     object\n",
              "famsup        object\n",
              "paid          object\n",
              "activities    object\n",
              "nursery       object\n",
              "higher        object\n",
              "internet      object\n",
              "romantic      object\n",
              "famrel         int64\n",
              "freetime       int64\n",
              "goout          int64\n",
              "Dalc           int64\n",
              "Walc           int64\n",
              "health         int64\n",
              "absences       int64\n",
              "G1             int64\n",
              "G2             int64\n",
              "G3             int64\n",
              "dtype: object"
            ]
          },
          "metadata": {},
          "execution_count": 7
        }
      ],
      "source": [
        "data.dtypes"
      ]
    },
    {
      "cell_type": "markdown",
      "id": "8d4c04e4",
      "metadata": {
        "id": "8d4c04e4"
      },
      "source": [
        "Are there missing values?"
      ]
    },
    {
      "cell_type": "code",
      "execution_count": 8,
      "id": "2f0af42d",
      "metadata": {
        "colab": {
          "base_uri": "https://localhost:8080/"
        },
        "id": "2f0af42d",
        "outputId": "98e00869-a6b3-4ed5-e1b8-fb625c548cc2"
      },
      "outputs": [
        {
          "output_type": "execute_result",
          "data": {
            "text/plain": [
              "school        False\n",
              "sex           False\n",
              "age           False\n",
              "address       False\n",
              "famsize       False\n",
              "Pstatus       False\n",
              "Medu          False\n",
              "Fedu          False\n",
              "Mjob          False\n",
              "Fjob          False\n",
              "reason        False\n",
              "guardian      False\n",
              "traveltime    False\n",
              "studytime     False\n",
              "failures      False\n",
              "schoolsup     False\n",
              "famsup        False\n",
              "paid          False\n",
              "activities    False\n",
              "nursery       False\n",
              "higher        False\n",
              "internet      False\n",
              "romantic      False\n",
              "famrel        False\n",
              "freetime      False\n",
              "goout         False\n",
              "Dalc          False\n",
              "Walc          False\n",
              "health        False\n",
              "absences      False\n",
              "G1            False\n",
              "G2            False\n",
              "G3            False\n",
              "dtype: bool"
            ]
          },
          "metadata": {},
          "execution_count": 8
        }
      ],
      "source": [
        "data.isnull().any()"
      ]
    },
    {
      "cell_type": "markdown",
      "id": "b76e05a3",
      "metadata": {
        "id": "b76e05a3"
      },
      "source": [
        "### Step 3: Analyze\n",
        "- Feature selection\n",
        "- Model selection\n",
        "- Analyze data*"
      ]
    },
    {
      "cell_type": "markdown",
      "id": "43c92be6",
      "metadata": {
        "id": "43c92be6"
      },
      "source": [
        "####  Explore correlation\n",
        "\n",
        "How to interpret correlation\n",
        "![Correlation diagram](https://raw.githubusercontent.com/LearnPythonWithRune/DataScienceWithPython/main/jupyter/final/img/correlation-diagram.png)"
      ]
    },
    {
      "cell_type": "code",
      "execution_count": 12,
      "id": "522aac67",
      "metadata": {
        "scrolled": true,
        "colab": {
          "base_uri": "https://localhost:8080/"
        },
        "id": "522aac67",
        "outputId": "e890f591-abda-4bda-fe60-926349973ceb"
      },
      "outputs": [
        {
          "output_type": "execute_result",
          "data": {
            "text/plain": [
              "age          -0.161579\n",
              "Medu          0.217147\n",
              "Fedu          0.152457\n",
              "traveltime   -0.117142\n",
              "studytime     0.097820\n",
              "failures     -0.360415\n",
              "famrel        0.051363\n",
              "freetime      0.011307\n",
              "goout        -0.132791\n",
              "Dalc         -0.054660\n",
              "Walc         -0.051939\n",
              "health       -0.061335\n",
              "absences      0.034247\n",
              "G1            0.801468\n",
              "G2            0.904868\n",
              "G3            1.000000\n",
              "Name: G3, dtype: float64"
            ]
          },
          "metadata": {},
          "execution_count": 12
        }
      ],
      "source": [
        "data.corr()['G3']"
      ]
    },
    {
      "cell_type": "markdown",
      "id": "869e9b9c",
      "metadata": {
        "id": "869e9b9c"
      },
      "source": [
        "Notice that it only makes correlation with numeric features."
      ]
    },
    {
      "cell_type": "code",
      "execution_count": 13,
      "id": "0402641a",
      "metadata": {
        "scrolled": true,
        "colab": {
          "base_uri": "https://localhost:8080/"
        },
        "id": "0402641a",
        "outputId": "fe96616b-4a2c-4fd3-cd36-0e9080392b77"
      },
      "outputs": [
        {
          "output_type": "execute_result",
          "data": {
            "text/plain": [
              "Index(['school', 'sex', 'age', 'address', 'famsize', 'Pstatus', 'Medu', 'Fedu',\n",
              "       'Mjob', 'Fjob', 'reason', 'guardian', 'traveltime', 'studytime',\n",
              "       'failures', 'schoolsup', 'famsup', 'paid', 'activities', 'nursery',\n",
              "       'higher', 'internet', 'romantic', 'famrel', 'freetime', 'goout', 'Dalc',\n",
              "       'Walc', 'health', 'absences', 'G1', 'G2', 'G3'],\n",
              "      dtype='object')"
            ]
          },
          "metadata": {},
          "execution_count": 13
        }
      ],
      "source": [
        "data.columns"
      ]
    },
    {
      "cell_type": "markdown",
      "id": "2a78f638",
      "metadata": {
        "id": "2a78f638"
      },
      "source": [
        "Find high impact features - but what can you do about it? Medu, Mjob"
      ]
    },
    {
      "cell_type": "code",
      "execution_count": 14,
      "id": "a591bf02",
      "metadata": {
        "scrolled": true,
        "colab": {
          "base_uri": "https://localhost:8080/"
        },
        "id": "a591bf02",
        "outputId": "27af8049-43dc-4e97-9dd8-776393e6f015"
      },
      "outputs": [
        {
          "output_type": "execute_result",
          "data": {
            "text/plain": [
              "higher\n",
              "no      6.800\n",
              "yes    10.608\n",
              "Name: G3, dtype: float64"
            ]
          },
          "metadata": {},
          "execution_count": 14
        }
      ],
      "source": [
        "data.groupby('higher')['G3'].mean()"
      ]
    },
    {
      "cell_type": "code",
      "execution_count": 15,
      "id": "61063cc9",
      "metadata": {
        "colab": {
          "base_uri": "https://localhost:8080/"
        },
        "id": "61063cc9",
        "outputId": "4743b2e2-527c-4c7a-80d8-f2e58ee6f72e"
      },
      "outputs": [
        {
          "output_type": "execute_result",
          "data": {
            "text/plain": [
              "higher\n",
              "no      20\n",
              "yes    375\n",
              "Name: G3, dtype: int64"
            ]
          },
          "metadata": {},
          "execution_count": 15
        }
      ],
      "source": [
        "data.groupby('higher')['G3'].count()"
      ]
    },
    {
      "cell_type": "markdown",
      "id": "2aa3bbc0",
      "metadata": {
        "id": "2aa3bbc0"
      },
      "source": [
        "#### Standard deviation\n",
        "![Standard deviation](https://raw.githubusercontent.com/LearnPythonWithRune/DataScienceWithPython/main/jupyter/final/img/std-diagram.png)"
      ]
    },
    {
      "cell_type": "code",
      "execution_count": 16,
      "id": "71faf083",
      "metadata": {
        "colab": {
          "base_uri": "https://localhost:8080/"
        },
        "id": "71faf083",
        "outputId": "d341ebf0-69d7-4ba3-b520-dd75904bc977"
      },
      "outputs": [
        {
          "output_type": "execute_result",
          "data": {
            "text/plain": [
              "higher\n",
              "no     4.829732\n",
              "yes    4.493422\n",
              "Name: G3, dtype: float64"
            ]
          },
          "metadata": {},
          "execution_count": 16
        }
      ],
      "source": [
        "data.groupby('higher')['G3'].std()"
      ]
    },
    {
      "cell_type": "markdown",
      "id": "d62bb982",
      "metadata": {
        "id": "d62bb982"
      },
      "source": [
        "### Step 4: Report\n",
        "- Present findings\n",
        "- Visualize results\n",
        "- Credibility counts"
      ]
    },
    {
      "cell_type": "markdown",
      "id": "e834d335",
      "metadata": {
        "id": "e834d335"
      },
      "source": [
        "#### Credibility\n",
        "- The impact we expect"
      ]
    },
    {
      "cell_type": "code",
      "execution_count": 17,
      "id": "2e0be1e1",
      "metadata": {
        "colab": {
          "base_uri": "https://localhost:8080/"
        },
        "id": "2e0be1e1",
        "outputId": "488ff3fd-912f-4fb9-8569-ab861cb93fa6"
      },
      "outputs": [
        {
          "output_type": "execute_result",
          "data": {
            "text/plain": [
              "10.415189873417722"
            ]
          },
          "metadata": {},
          "execution_count": 17
        }
      ],
      "source": [
        "data['G3'].mean()"
      ]
    },
    {
      "cell_type": "code",
      "execution_count": 18,
      "id": "7bd5e5c1",
      "metadata": {
        "colab": {
          "base_uri": "https://localhost:8080/"
        },
        "id": "7bd5e5c1",
        "outputId": "6a7c9d33-e85a-4a82-bcbd-39fcb893151c"
      },
      "outputs": [
        {
          "output_type": "execute_result",
          "data": {
            "text/plain": [
              "higher\n",
              "no      6.800\n",
              "yes    10.608\n",
              "Name: G3, dtype: float64"
            ]
          },
          "metadata": {},
          "execution_count": 18
        }
      ],
      "source": [
        "data.groupby('higher')['G3'].mean()"
      ]
    },
    {
      "cell_type": "code",
      "execution_count": 19,
      "id": "6873c510",
      "metadata": {
        "scrolled": true,
        "colab": {
          "base_uri": "https://localhost:8080/"
        },
        "id": "6873c510",
        "outputId": "3e3786ee-6e33-43af-ce92-05761b6ca7a8"
      },
      "outputs": [
        {
          "output_type": "execute_result",
          "data": {
            "text/plain": [
              "higher\n",
              "no      20\n",
              "yes    375\n",
              "Name: G3, dtype: int64"
            ]
          },
          "metadata": {},
          "execution_count": 19
        }
      ],
      "source": [
        "data.groupby('higher')['G3'].count()"
      ]
    },
    {
      "cell_type": "markdown",
      "id": "17251446",
      "metadata": {
        "id": "17251446"
      },
      "source": [
        "Impact not the huge"
      ]
    },
    {
      "cell_type": "markdown",
      "id": "14b9667c",
      "metadata": {
        "id": "14b9667c"
      },
      "source": [
        "### Step 5: Actions\n",
        "- Use insights\n",
        "- Measure impact\n",
        "- Main goal"
      ]
    },
    {
      "cell_type": "markdown",
      "id": "dcb0ec2c",
      "metadata": {
        "id": "dcb0ec2c"
      },
      "source": [
        "Impact measures\n",
        "- Same data after effort\n",
        "- Measure if 'higher' is lower\n",
        "- Did it influence G3?"
      ]
    },
    {
      "cell_type": "code",
      "execution_count": null,
      "id": "cccece09",
      "metadata": {
        "id": "cccece09"
      },
      "outputs": [],
      "source": [
        ""
      ]
    }
  ],
  "metadata": {
    "language_info": {
      "name": "python"
    },
    "colab": {
      "name": "00 - Lesson - Data Science Workflow.ipynb",
      "provenance": []
    },
    "kernelspec": {
      "name": "python3",
      "display_name": "Python 3"
    },
    "gpuClass": "standard"
  },
  "nbformat": 4,
  "nbformat_minor": 5
}